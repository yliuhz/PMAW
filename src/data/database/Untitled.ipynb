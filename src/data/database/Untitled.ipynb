{
 "cells": [
  {
   "cell_type": "code",
   "execution_count": 1,
   "id": "56bc2125",
   "metadata": {},
   "outputs": [
    {
     "name": "stdout",
     "output_type": "stream",
     "text": [
      "Requirement already satisfied: openpyxl in /home/ly/.conda/envs/deepchem-torch/lib/python3.7/site-packages (3.0.9)\r\n",
      "Requirement already satisfied: et-xmlfile in /home/ly/.conda/envs/deepchem-torch/lib/python3.7/site-packages (from openpyxl) (1.1.0)\r\n"
     ]
    }
   ],
   "source": [
    "!pip install openpyxl"
   ]
  },
  {
   "cell_type": "code",
   "execution_count": 2,
   "id": "ee8fe34c",
   "metadata": {},
   "outputs": [],
   "source": [
    "import pandas as pd"
   ]
  },
  {
   "cell_type": "code",
   "execution_count": 3,
   "id": "b56f3a4d",
   "metadata": {},
   "outputs": [],
   "source": [
    "des_file = '描述符.xlsx'\n",
    "morgan_file = '摩根.xlsx'\n",
    "maccs_file = 'MACCS.xlsx'"
   ]
  },
  {
   "cell_type": "code",
   "execution_count": 4,
   "id": "370e5877",
   "metadata": {},
   "outputs": [],
   "source": [
    "df_des = pd.read_excel(des_file)\n",
    "df_morgan = pd.read_excel(morgan_file)\n",
    "df_maccs = pd.read_excel(maccs_file)"
   ]
  },
  {
   "cell_type": "code",
   "execution_count": 5,
   "id": "2cb3bdd8",
   "metadata": {},
   "outputs": [
    {
     "name": "stdout",
     "output_type": "stream",
     "text": [
      "(1181, 396) (1181, 5) (1181, 6)\n"
     ]
    }
   ],
   "source": [
    "print(df_des.shape, df_morgan.shape, df_maccs.shape)"
   ]
  },
  {
   "cell_type": "code",
   "execution_count": 6,
   "id": "b808238c",
   "metadata": {},
   "outputs": [
    {
     "name": "stdout",
     "output_type": "stream",
     "text": [
      "Index(['荧光分子Structure', 'solvent', 'λabs (nm)', 'BalabanJ', 'BertzCT', 'Chi0',\n",
      "       'Chi0n', 'Chi0v', 'Chi1', 'Chi1n',\n",
      "       ...\n",
      "       'fr_sulfide.1', 'fr_sulfonamd.1', 'fr_sulfone.1', 'fr_term_acetylene.1',\n",
      "       'fr_tetrazole.1', 'fr_thiazole.1', 'fr_thiocyan.1', 'fr_thiophene.1',\n",
      "       'fr_unbrch_alkane.1', 'fr_urea.1'],\n",
      "      dtype='object', length=396)\n",
      "Index(['荧光分子Structure', 'solvent', 'λabs (nm)', '荧光分子摩根', '溶剂摩根'], dtype='object')\n",
      "Index(['荧光分子Structure', 'solvent', 'λabs (nm)', 'MACCS荧光分子', 'FP:MACCS',\n",
      "       '溶剂FP:MACCS'],\n",
      "      dtype='object')\n"
     ]
    }
   ],
   "source": [
    "print(df_des.columns)\n",
    "print(df_morgan.columns)\n",
    "print(df_maccs.columns)"
   ]
  },
  {
   "cell_type": "code",
   "execution_count": 7,
   "id": "27dbf521",
   "metadata": {},
   "outputs": [],
   "source": [
    "# Check duplicate"
   ]
  },
  {
   "cell_type": "code",
   "execution_count": 8,
   "id": "1f040ba6",
   "metadata": {},
   "outputs": [
    {
     "name": "stdout",
     "output_type": "stream",
     "text": [
      "                                       荧光分子Structure solvent  λabs (nm)\n",
      "0  CC1=C2N([B-](F)(F)[N+]3=C(C)C=C(C)C3=C2C4=CC=C...    CC#N      597.0\n",
      "                                       荧光分子Structure solvent  λabs (nm)\n",
      "0  CC1=C2N([B-](F)(F)[N+]3=C(C)C=C(C)C3=C2C4=CC=C...    CC#N      597.0\n",
      "                                       荧光分子Structure solvent  λabs (nm)\n",
      "0  CC1=C2N([B-](F)(F)[N+]3=C(C)C=C(C)C3=C2C4=CC=C...    CC#N      597.0\n"
     ]
    }
   ],
   "source": [
    "df_des_smiles = df_des.iloc[:, :3]\n",
    "df_morgan_smiles = df_morgan.iloc[:, :3]\n",
    "df_maccs_smiles = df_maccs.iloc[:, :3]\n",
    "print(df_des_smiles.head(1))\n",
    "print(df_morgan_smiles.head(1))\n",
    "print(df_maccs_smiles.head(1))"
   ]
  },
  {
   "cell_type": "code",
   "execution_count": 9,
   "id": "bbc6e21f",
   "metadata": {},
   "outputs": [
    {
     "name": "stdout",
     "output_type": "stream",
     "text": [
      "(1181, 3) (1181, 3) (1181, 3)\n"
     ]
    }
   ],
   "source": [
    "print(df_des_smiles.drop_duplicates().shape, df_morgan_smiles.drop_duplicates().shape, df_maccs_smiles.drop_duplicates().shape)"
   ]
  },
  {
   "cell_type": "code",
   "execution_count": 10,
   "id": "80a7998f",
   "metadata": {},
   "outputs": [
    {
     "name": "stdout",
     "output_type": "stream",
     "text": [
      "(1181, 396) (1181, 5) (1181, 6)\n"
     ]
    }
   ],
   "source": [
    "print(df_des.drop_duplicates().shape, df_morgan.drop_duplicates().shape, df_maccs.drop_duplicates().shape)"
   ]
  },
  {
   "cell_type": "code",
   "execution_count": 11,
   "id": "650b66f4",
   "metadata": {},
   "outputs": [],
   "source": [
    "# Check na"
   ]
  },
  {
   "cell_type": "code",
   "execution_count": 12,
   "id": "99c80f92",
   "metadata": {},
   "outputs": [
    {
     "name": "stdout",
     "output_type": "stream",
     "text": [
      "(0, 396) (1181, 5) (0, 6)\n"
     ]
    }
   ],
   "source": [
    "print(df_des.dropna(axis=0).shape, df_morgan.dropna().shape, df_maccs.dropna().shape)"
   ]
  },
  {
   "cell_type": "code",
   "execution_count": 13,
   "id": "85c94a4a",
   "metadata": {},
   "outputs": [],
   "source": [
    "flags_cols = df_des.isna().any()"
   ]
  },
  {
   "cell_type": "code",
   "execution_count": 14,
   "id": "f9056e44",
   "metadata": {},
   "outputs": [
    {
     "data": {
      "text/plain": [
       "MaxAbsPartialCharge    True\n",
       "MaxPartialCharge       True\n",
       "MinAbsPartialCharge    True\n",
       "MinPartialCharge       True\n",
       "溶剂描述符                  True\n",
       "dtype: bool"
      ]
     },
     "execution_count": 14,
     "metadata": {},
     "output_type": "execute_result"
    }
   ],
   "source": [
    "flags_cols[flags_cols==True]"
   ]
  },
  {
   "cell_type": "code",
   "execution_count": 15,
   "id": "da40f90f",
   "metadata": {},
   "outputs": [
    {
     "data": {
      "text/plain": [
       "(1148, 395)"
      ]
     },
     "execution_count": 15,
     "metadata": {},
     "output_type": "execute_result"
    }
   ],
   "source": [
    "df_des.drop('溶剂描述符', axis=1).dropna().shape"
   ]
  },
  {
   "cell_type": "code",
   "execution_count": 16,
   "id": "3854c2f7",
   "metadata": {},
   "outputs": [],
   "source": [
    "flags_cols_maccs = df_maccs.isna().any()"
   ]
  },
  {
   "cell_type": "code",
   "execution_count": 17,
   "id": "cbacfe85",
   "metadata": {},
   "outputs": [
    {
     "data": {
      "text/plain": [
       "MACCS荧光分子    True\n",
       "dtype: bool"
      ]
     },
     "execution_count": 17,
     "metadata": {},
     "output_type": "execute_result"
    }
   ],
   "source": [
    "flags_cols_maccs[flags_cols_maccs==True]"
   ]
  },
  {
   "cell_type": "code",
   "execution_count": 18,
   "id": "a407bd58",
   "metadata": {},
   "outputs": [
    {
     "data": {
      "text/plain": [
       "(1181, 5)"
      ]
     },
     "execution_count": 18,
     "metadata": {},
     "output_type": "execute_result"
    }
   ],
   "source": [
    "df_maccs.drop(['MACCS荧光分子'], axis=1).dropna().shape"
   ]
  },
  {
   "cell_type": "code",
   "execution_count": 19,
   "id": "d2b1f8a5",
   "metadata": {},
   "outputs": [],
   "source": [
    "# check consistency"
   ]
  },
  {
   "cell_type": "code",
   "execution_count": 20,
   "id": "b0b51f29",
   "metadata": {},
   "outputs": [],
   "source": [
    "pd.testing.assert_frame_equal(df_des_smiles, df_morgan_smiles)"
   ]
  },
  {
   "cell_type": "code",
   "execution_count": 21,
   "id": "e77ae885",
   "metadata": {},
   "outputs": [],
   "source": [
    "pd.testing.assert_frame_equal(df_des_smiles, df_maccs_smiles)"
   ]
  },
  {
   "cell_type": "code",
   "execution_count": 22,
   "id": "5450ab2e",
   "metadata": {},
   "outputs": [],
   "source": [
    "# check dtype"
   ]
  },
  {
   "cell_type": "code",
   "execution_count": 23,
   "id": "656b46d1",
   "metadata": {},
   "outputs": [],
   "source": [
    "_ = df_des.iloc[:, 3:].astype(float)"
   ]
  },
  {
   "cell_type": "code",
   "execution_count": 24,
   "id": "c0e13a26",
   "metadata": {},
   "outputs": [],
   "source": [
    "_ = df_morgan.iloc[:, 3:].astype(str)"
   ]
  },
  {
   "cell_type": "code",
   "execution_count": 25,
   "id": "96c4cbd6",
   "metadata": {},
   "outputs": [],
   "source": [
    "_ = df_maccs.iloc[:, 3:].astype(str)"
   ]
  },
  {
   "cell_type": "code",
   "execution_count": 26,
   "id": "f23b603c",
   "metadata": {},
   "outputs": [],
   "source": [
    "# fillna"
   ]
  },
  {
   "cell_type": "code",
   "execution_count": 27,
   "id": "6815c86a",
   "metadata": {},
   "outputs": [],
   "source": [
    "df_des = df_des.drop(['溶剂描述符'], axis=1)"
   ]
  },
  {
   "cell_type": "code",
   "execution_count": 28,
   "id": "be554ab7",
   "metadata": {},
   "outputs": [
    {
     "name": "stderr",
     "output_type": "stream",
     "text": [
      "/home/ly/.conda/envs/deepchem-torch/lib/python3.7/site-packages/ipykernel_launcher.py:1: FutureWarning: Dropping of nuisance columns in DataFrame reductions (with 'numeric_only=None') is deprecated; in a future version this will raise TypeError.  Select only valid columns before calling the reduction.\n",
      "  \"\"\"Entry point for launching an IPython kernel.\n"
     ]
    }
   ],
   "source": [
    "df_des_fillna = df_des.fillna(df_des.median())"
   ]
  },
  {
   "cell_type": "code",
   "execution_count": 29,
   "id": "97b046ee",
   "metadata": {},
   "outputs": [
    {
     "name": "stdout",
     "output_type": "stream",
     "text": [
      "(1181, 395) (1181, 395)\n"
     ]
    }
   ],
   "source": [
    "print(df_des_fillna.shape, df_des_fillna.dropna().shape)"
   ]
  },
  {
   "cell_type": "code",
   "execution_count": 30,
   "id": "d1e16321",
   "metadata": {},
   "outputs": [],
   "source": [
    "df_des_fillna.to_csv('22-01-29-descriptor-median.csv', index=False, encoding='gb18030')"
   ]
  },
  {
   "cell_type": "code",
   "execution_count": 31,
   "id": "6572b272",
   "metadata": {},
   "outputs": [
    {
     "name": "stderr",
     "output_type": "stream",
     "text": [
      "/home/ly/.conda/envs/deepchem-torch/lib/python3.7/site-packages/ipykernel_launcher.py:1: FutureWarning: Dropping of nuisance columns in DataFrame reductions (with 'numeric_only=None') is deprecated; in a future version this will raise TypeError.  Select only valid columns before calling the reduction.\n",
      "  \"\"\"Entry point for launching an IPython kernel.\n"
     ]
    }
   ],
   "source": [
    "df_des_fillna2 = df_des.fillna(df_des.mean())"
   ]
  },
  {
   "cell_type": "code",
   "execution_count": 32,
   "id": "8cfcec3b",
   "metadata": {},
   "outputs": [
    {
     "name": "stdout",
     "output_type": "stream",
     "text": [
      "(1181, 395) (1181, 395)\n"
     ]
    }
   ],
   "source": [
    "print(df_des_fillna2.shape, df_des_fillna2.dropna().shape)"
   ]
  },
  {
   "cell_type": "code",
   "execution_count": 33,
   "id": "f5281e63",
   "metadata": {},
   "outputs": [],
   "source": [
    "df_des_fillna2.to_csv('22-01-29-descriptor-mean.csv', index=False, encoding='gb18030')"
   ]
  },
  {
   "cell_type": "code",
   "execution_count": 34,
   "id": "09df5266",
   "metadata": {},
   "outputs": [
    {
     "name": "stdout",
     "output_type": "stream",
     "text": [
      "(1181, 5) (1181, 5)\n"
     ]
    }
   ],
   "source": [
    "df_maccs = df_maccs.drop(['MACCS荧光分子'], axis=1)\n",
    "print(df_maccs.shape, df_maccs.dropna().shape)"
   ]
  },
  {
   "cell_type": "code",
   "execution_count": 35,
   "id": "f373fb0e",
   "metadata": {},
   "outputs": [],
   "source": [
    "# prepare all data"
   ]
  },
  {
   "cell_type": "code",
   "execution_count": 36,
   "id": "890954f9",
   "metadata": {},
   "outputs": [],
   "source": [
    "df_smiles = df_des_fillna.iloc[:, :3]\n",
    "df_des = df_des_fillna.iloc[:, 2:]\n",
    "df_morgan = df_morgan.iloc[:, 2:]\n",
    "df_maccs = df_maccs.iloc[:, 2:]"
   ]
  },
  {
   "cell_type": "code",
   "execution_count": 37,
   "id": "39cfd799",
   "metadata": {},
   "outputs": [
    {
     "name": "stdout",
     "output_type": "stream",
     "text": [
      "Index(['荧光分子Structure', 'solvent', 'λabs (nm)'], dtype='object')\n",
      "Index(['λabs (nm)', 'BalabanJ', 'BertzCT', 'Chi0', 'Chi0n', 'Chi0v', 'Chi1',\n",
      "       'Chi1n', 'Chi1v', 'Chi2n',\n",
      "       ...\n",
      "       'fr_sulfide.1', 'fr_sulfonamd.1', 'fr_sulfone.1', 'fr_term_acetylene.1',\n",
      "       'fr_tetrazole.1', 'fr_thiazole.1', 'fr_thiocyan.1', 'fr_thiophene.1',\n",
      "       'fr_unbrch_alkane.1', 'fr_urea.1'],\n",
      "      dtype='object', length=393)\n",
      "Index(['λabs (nm)', '荧光分子摩根', '溶剂摩根'], dtype='object')\n",
      "Index(['λabs (nm)', 'FP:MACCS', '溶剂FP:MACCS'], dtype='object')\n"
     ]
    }
   ],
   "source": [
    "print(df_smiles.columns, df_des.columns, df_morgan.columns, df_maccs.columns, sep='\\n')"
   ]
  },
  {
   "cell_type": "code",
   "execution_count": 38,
   "id": "90be0dd2",
   "metadata": {},
   "outputs": [],
   "source": [
    "df_smiles.columns = ['molecule', 'solvent', 'label']\n",
    "df_des.columns = ['label'] + df_des.columns.tolist()[1:]\n",
    "df_morgan.columns = ['label', 'molecule', 'solvent']\n",
    "df_maccs.columns = ['label', 'molecule', 'solvent']"
   ]
  },
  {
   "cell_type": "code",
   "execution_count": 39,
   "id": "54b365fc",
   "metadata": {},
   "outputs": [
    {
     "name": "stdout",
     "output_type": "stream",
     "text": [
      "Index(['molecule', 'solvent', 'label'], dtype='object')\n",
      "Index(['label', 'BalabanJ', 'BertzCT', 'Chi0', 'Chi0n', 'Chi0v', 'Chi1',\n",
      "       'Chi1n', 'Chi1v', 'Chi2n',\n",
      "       ...\n",
      "       'fr_sulfide.1', 'fr_sulfonamd.1', 'fr_sulfone.1', 'fr_term_acetylene.1',\n",
      "       'fr_tetrazole.1', 'fr_thiazole.1', 'fr_thiocyan.1', 'fr_thiophene.1',\n",
      "       'fr_unbrch_alkane.1', 'fr_urea.1'],\n",
      "      dtype='object', length=393)\n",
      "Index(['label', 'molecule', 'solvent'], dtype='object')\n",
      "Index(['label', 'molecule', 'solvent'], dtype='object')\n"
     ]
    }
   ],
   "source": [
    "print(df_smiles.columns, df_des.columns, df_morgan.columns, df_maccs.columns, sep='\\n')"
   ]
  },
  {
   "cell_type": "code",
   "execution_count": 40,
   "id": "ff2359bc",
   "metadata": {},
   "outputs": [],
   "source": [
    "df_smiles_shuffled = df_smiles.sample(frac=1)"
   ]
  },
  {
   "cell_type": "code",
   "execution_count": 41,
   "id": "a4265998",
   "metadata": {},
   "outputs": [
    {
     "name": "stdout",
     "output_type": "stream",
     "text": [
      "Int64Index([1000,  128,  581,  619, 1153,  780,  624,  305,  587,  888,\n",
      "            ...\n",
      "             402,   66, 1034,  788, 1161,  740,  761,   59,  287,  223],\n",
      "           dtype='int64', length=120)\n"
     ]
    }
   ],
   "source": [
    "test_index = df_smiles_shuffled.index[:120]\n",
    "print(test_index)\n",
    "test_index.to_series().to_csv('test_index.csv', encoding='gb18030')"
   ]
  },
  {
   "cell_type": "code",
   "execution_count": 42,
   "id": "303e83b3",
   "metadata": {},
   "outputs": [
    {
     "name": "stdout",
     "output_type": "stream",
     "text": [
      "(1061, 3) (120, 3)\n"
     ]
    }
   ],
   "source": [
    "df_smiles_train = df_smiles.drop(test_index, axis=0)\n",
    "df_smiles_test = df_smiles.iloc[test_index, :]\n",
    "print(df_smiles_train.shape, df_smiles_test.shape)"
   ]
  },
  {
   "cell_type": "code",
   "execution_count": 43,
   "id": "c305134d",
   "metadata": {},
   "outputs": [],
   "source": [
    "df_des_train = df_des.drop(test_index, axis=0)\n",
    "df_des_test = df_des.iloc[test_index, :]\n",
    "df_morgan_train = df_morgan.drop(test_index, axis=0)\n",
    "df_morgan_test = df_morgan.iloc[test_index, :]\n",
    "df_maccs_train = df_maccs.drop(test_index, axis=0)\n",
    "df_maccs_test = df_maccs.iloc[test_index, :]"
   ]
  },
  {
   "cell_type": "code",
   "execution_count": 44,
   "id": "c93ca928",
   "metadata": {},
   "outputs": [
    {
     "name": "stdout",
     "output_type": "stream",
     "text": [
      "(1061, 393)\n",
      "(120, 393)\n",
      "(1061, 3)\n",
      "(120, 3)\n",
      "(1061, 3)\n",
      "(120, 3)\n"
     ]
    }
   ],
   "source": [
    "print(df_des_train.shape, df_des_test.shape, df_morgan_train.shape, df_morgan_test.shape, df_maccs_train.shape, df_maccs_test.shape, sep='\\n')"
   ]
  },
  {
   "cell_type": "code",
   "execution_count": 45,
   "id": "3ce5eff3",
   "metadata": {},
   "outputs": [],
   "source": [
    "label_smiles_train = df_smiles_train['label']\n",
    "label_des_train = df_des_train['label']\n",
    "label_morgan_train = df_morgan_train['label']\n",
    "label_maccs_train = df_maccs_train['label']"
   ]
  },
  {
   "cell_type": "code",
   "execution_count": 46,
   "id": "7a96b2cc",
   "metadata": {},
   "outputs": [],
   "source": [
    "pd.testing.assert_series_equal(label_smiles_train, label_des_train)"
   ]
  },
  {
   "cell_type": "code",
   "execution_count": 47,
   "id": "bf68ab1e",
   "metadata": {},
   "outputs": [],
   "source": [
    "pd.testing.assert_series_equal(label_smiles_train, label_morgan_train)"
   ]
  },
  {
   "cell_type": "code",
   "execution_count": 48,
   "id": "af8db0db",
   "metadata": {},
   "outputs": [],
   "source": [
    "pd.testing.assert_series_equal(label_smiles_train, label_maccs_train)"
   ]
  },
  {
   "cell_type": "code",
   "execution_count": null,
   "id": "fe9513d8",
   "metadata": {},
   "outputs": [],
   "source": []
  },
  {
   "cell_type": "code",
   "execution_count": 50,
   "id": "96fe4813",
   "metadata": {},
   "outputs": [
    {
     "name": "stdout",
     "output_type": "stream",
     "text": [
      "Int64Index([   0,    1,    2,    3,    4,    5,    6,    7,    8,    9,\n",
      "            ...\n",
      "            1169, 1171, 1172, 1173, 1174, 1175, 1176, 1178, 1179, 1180],\n",
      "           dtype='int64', length=1061)\n",
      "Int64Index([   0,    1,    2,    3,    4,    5,    6,    7,    8,    9,\n",
      "            ...\n",
      "            1169, 1171, 1172, 1173, 1174, 1175, 1176, 1178, 1179, 1180],\n",
      "           dtype='int64', length=1061)\n"
     ]
    }
   ],
   "source": [
    "print(df_smiles_train.index)\n",
    "print(df_des_train.index)"
   ]
  },
  {
   "cell_type": "code",
   "execution_count": 51,
   "id": "e7f1e7d8",
   "metadata": {},
   "outputs": [],
   "source": [
    "df_smiles_train = df_smiles_train.reset_index(drop=True)\n",
    "df_des_train = df_des_train.reset_index(drop=True)\n",
    "df_morgan_train = df_morgan_train.reset_index(drop=True)\n",
    "df_maccs_train = df_maccs_train.reset_index(drop=True)"
   ]
  },
  {
   "cell_type": "code",
   "execution_count": 52,
   "id": "c4bcbd44",
   "metadata": {},
   "outputs": [],
   "source": [
    "df_smiles_test = df_smiles_test.reset_index(drop=True)\n",
    "df_des_test = df_des_test.reset_index(drop=True)\n",
    "df_morgan_test = df_morgan_test.reset_index(drop=True)\n",
    "df_maccs_test = df_maccs_test.reset_index(drop=True)"
   ]
  },
  {
   "cell_type": "code",
   "execution_count": 53,
   "id": "a9c881cf",
   "metadata": {},
   "outputs": [
    {
     "name": "stdout",
     "output_type": "stream",
     "text": [
      "RangeIndex(start=0, stop=1061, step=1)\n"
     ]
    }
   ],
   "source": [
    "print(df_smiles_train.index)"
   ]
  },
  {
   "cell_type": "code",
   "execution_count": 54,
   "id": "c00942bc",
   "metadata": {},
   "outputs": [],
   "source": [
    "df_smiles_train.to_csv('22-01-29-smiles-train.csv', index=False, encoding='gb18030')\n",
    "df_des_train.to_csv('22-01-29-descriptor-train.csv', index=False, encoding='gb18030')\n",
    "df_morgan_train.to_csv('22-01-29-morgan-train.csv', index=False, encoding='gb18030')\n",
    "df_maccs_train.to_csv('22-01-29-maccs-train.csv', index=False, encoding='gb18030')"
   ]
  },
  {
   "cell_type": "code",
   "execution_count": 55,
   "id": "21f3df48",
   "metadata": {},
   "outputs": [],
   "source": [
    "df_smiles_test.to_csv('22-01-29-smiles-test-level-1.csv', index=False, encoding='gb18030')\n",
    "df_des_test.to_csv('22-01-29-descriptor-test-level-1.csv', index=False, encoding='gb18030')\n",
    "df_morgan_test.to_csv('22-01-29-morgan-test-level-1.csv', index=False, encoding='gb18030')\n",
    "df_maccs_test.to_csv('22-01-29-maccs-test-level-1.csv', index=False, encoding='gb18030')"
   ]
  },
  {
   "cell_type": "code",
   "execution_count": null,
   "id": "1c9ab25f",
   "metadata": {},
   "outputs": [],
   "source": []
  }
 ],
 "metadata": {
  "kernelspec": {
   "display_name": "Python [conda env:.conda-deepchem-torch] *",
   "language": "python",
   "name": "conda-env-.conda-deepchem-torch-py"
  },
  "language_info": {
   "codemirror_mode": {
    "name": "ipython",
    "version": 3
   },
   "file_extension": ".py",
   "mimetype": "text/x-python",
   "name": "python",
   "nbconvert_exporter": "python",
   "pygments_lexer": "ipython3",
   "version": "3.7.11"
  }
 },
 "nbformat": 4,
 "nbformat_minor": 5
}
